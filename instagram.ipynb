{
 "cells": [
  {
   "cell_type": "code",
   "execution_count": 44,
   "metadata": {},
   "outputs": [],
   "source": [
    "import json"
   ]
  },
  {
   "cell_type": "code",
   "execution_count": 45,
   "metadata": {},
   "outputs": [],
   "source": [
    "following = open('following.json')\n",
    "followers = open('followers.json')\n",
    "following = json.loads(following.read()) #load as dictionary\n",
    "followers = json.loads(followers.read())"
   ]
  },
  {
   "cell_type": "code",
   "execution_count": 46,
   "metadata": {},
   "outputs": [],
   "source": [
    "tempfollowing = set()\n",
    "for user in following['relationships_following']:\n",
    "    tempfollowing.add(user['string_list_data'][0]['value'])\n"
   ]
  },
  {
   "cell_type": "code",
   "execution_count": 47,
   "metadata": {},
   "outputs": [],
   "source": [
    "tempfollowers = set()\n",
    "for user in followers['relationships_followers']:\n",
    "    tempfollowers.add(user['string_list_data'][0]['value'])\n"
   ]
  },
  {
   "cell_type": "code",
   "execution_count": null,
   "metadata": {},
   "outputs": [],
   "source": [
    "tempfollowing - tempfollowers #set arithmetic"
   ]
  }
 ],
 "metadata": {
  "kernelspec": {
   "display_name": "Python 3",
   "language": "python",
   "name": "python3"
  },
  "language_info": {
   "codemirror_mode": {
    "name": "ipython",
    "version": 3
   },
   "file_extension": ".py",
   "mimetype": "text/x-python",
   "name": "python",
   "nbconvert_exporter": "python",
   "pygments_lexer": "ipython3",
   "version": "3.11.0"
  },
  "orig_nbformat": 4,
  "vscode": {
   "interpreter": {
    "hash": "fdc4f903d8344ffdbe2649aa4657e7881e45fdbe43de22d17248a7a2b081cd9e"
   }
  }
 },
 "nbformat": 4,
 "nbformat_minor": 2
}
